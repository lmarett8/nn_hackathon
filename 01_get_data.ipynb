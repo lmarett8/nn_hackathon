{
 "cells": [
  {
   "cell_type": "code",
   "execution_count": 1,
   "metadata": {},
   "outputs": [
    {
     "name": "stderr",
     "output_type": "stream",
     "text": [
      "/Users/glebradchenko/opt/anaconda3/lib/python3.9/site-packages/scipy/__init__.py:146: UserWarning: A NumPy version >=1.16.5 and <1.23.0 is required for this version of SciPy (detected version 1.23.4\n",
      "  warnings.warn(f\"A NumPy version >={np_minversion} and <{np_maxversion}\"\n"
     ]
    }
   ],
   "source": [
    "from sklearn.datasets import make_regression\n",
    "from sklearn.preprocessing import StandardScaler\n",
    "from sklearn.model_selection import train_test_split, GridSearchCV\n",
    "from sklearn import metrics"
   ]
  },
  {
   "cell_type": "code",
   "execution_count": 33,
   "metadata": {},
   "outputs": [],
   "source": [
    "from tensorflow.keras.models import Sequential, Model\n",
    "import tensorflow as tf\n",
    "from tensorflow.keras.layers import Dense, Dropout, Input\n",
    "from tensorflow.keras.wrappers.scikit_learn import KerasRegressor\n",
    "from keras_preprocessing.image import ImageDataGenerator"
   ]
  },
  {
   "cell_type": "code",
   "execution_count": 13,
   "metadata": {},
   "outputs": [],
   "source": [
    "from PIL import Image\n",
    "import numpy as np\n",
    "import os"
   ]
  },
  {
   "cell_type": "code",
   "execution_count": 25,
   "metadata": {},
   "outputs": [
    {
     "name": "stdout",
     "output_type": "stream",
     "text": [
      "(299, 299, 3)\n"
     ]
    }
   ],
   "source": [
    "img = Image.open('../nn_hackathon/data/hotdog-nothotdog/test/hotdog/1501.jpg')\n",
    "imageToMatrice = np.asarray(img)\n",
    "print(imageToMatrice.shape)\n",
    "\n"
   ]
  },
  {
   "cell_type": "code",
   "execution_count": 28,
   "metadata": {},
   "outputs": [
    {
     "name": "stdout",
     "output_type": "stream",
     "text": [
      "(299, 299, 3)\n"
     ]
    }
   ],
   "source": [
    "img = Image.open('../nn_hackathon/data/hotdog-nothotdog/test/hotdog/1504.jpg')\n",
    "imageToMatrice_2 = np.asarray(img)\n",
    "print(imageToMatrice.shape)\n"
   ]
  },
  {
   "cell_type": "code",
   "execution_count": 30,
   "metadata": {},
   "outputs": [],
   "source": [
    "res=np.concatenate([imageToMatrice,imageToMatrice_2])"
   ]
  },
  {
   "cell_type": "code",
   "execution_count": 32,
   "metadata": {},
   "outputs": [
    {
     "data": {
      "text/plain": [
       "(598, 299, 3)"
      ]
     },
     "execution_count": 32,
     "metadata": {},
     "output_type": "execute_result"
    }
   ],
   "source": [
    "res.shape"
   ]
  },
  {
   "cell_type": "code",
   "execution_count": 27,
   "metadata": {},
   "outputs": [
    {
     "name": "stdout",
     "output_type": "stream",
     "text": [
      "./data/hotdog-nothotdog/test/hotdog/1637.jpg\n",
      "./data/hotdog-nothotdog/test/hotdog/1623.jpg\n",
      "./data/hotdog-nothotdog/test/hotdog/1810.jpg\n",
      "./data/hotdog-nothotdog/test/hotdog/1804.jpg\n",
      "./data/hotdog-nothotdog/test/hotdog/1743.jpg\n",
      "./data/hotdog-nothotdog/test/hotdog/1757.jpg\n",
      "./data/hotdog-nothotdog/test/hotdog/1780.jpg\n",
      "./data/hotdog-nothotdog/test/hotdog/1794.jpg\n",
      "./data/hotdog-nothotdog/test/hotdog/1569.jpg\n",
      "./data/hotdog-nothotdog/test/hotdog/1541.jpg\n",
      "./data/hotdog-nothotdog/test/hotdog/1555.jpg\n",
      "./data/hotdog-nothotdog/test/hotdog/1582.jpg\n",
      "./data/hotdog-nothotdog/test/hotdog/1596.jpg\n",
      "./data/hotdog-nothotdog/test/hotdog/1597.jpg\n",
      "./data/hotdog-nothotdog/test/hotdog/1583.jpg\n",
      "./data/hotdog-nothotdog/test/hotdog/1554.jpg\n",
      "./data/hotdog-nothotdog/test/hotdog/1540.jpg\n",
      "./data/hotdog-nothotdog/test/hotdog/1568.jpg\n",
      "./data/hotdog-nothotdog/test/hotdog/1795.jpg\n",
      "./data/hotdog-nothotdog/test/hotdog/1781.jpg\n",
      "./data/hotdog-nothotdog/test/hotdog/1756.jpg\n",
      "./data/hotdog-nothotdog/test/hotdog/1742.jpg\n",
      "./data/hotdog-nothotdog/test/hotdog/1805.jpg\n",
      "./data/hotdog-nothotdog/test/hotdog/1811.jpg\n",
      "./data/hotdog-nothotdog/test/hotdog/1622.jpg\n",
      "./data/hotdog-nothotdog/test/hotdog/1636.jpg\n",
      "./data/hotdog-nothotdog/test/hotdog/1608.jpg\n",
      "./data/hotdog-nothotdog/test/hotdog/1620.jpg\n",
      "./data/hotdog-nothotdog/test/hotdog/1634.jpg\n",
      "./data/hotdog-nothotdog/test/hotdog/1807.jpg\n",
      "./data/hotdog-nothotdog/test/hotdog/1813.jpg\n",
      "./data/hotdog-nothotdog/test/hotdog/1768.jpg\n",
      "./data/hotdog-nothotdog/test/hotdog/1754.jpg\n",
      "./data/hotdog-nothotdog/test/hotdog/1740.jpg\n",
      "./data/hotdog-nothotdog/test/hotdog/1797.jpg\n",
      "./data/hotdog-nothotdog/test/hotdog/1783.jpg\n",
      "./data/hotdog-nothotdog/test/hotdog/1556.jpg\n",
      "./data/hotdog-nothotdog/test/hotdog/1542.jpg\n",
      "./data/hotdog-nothotdog/test/hotdog/1595.jpg\n",
      "./data/hotdog-nothotdog/test/hotdog/1581.jpg\n",
      "./data/hotdog-nothotdog/test/hotdog/1580.jpg\n",
      "./data/hotdog-nothotdog/test/hotdog/1594.jpg\n",
      "./data/hotdog-nothotdog/test/hotdog/1543.jpg\n",
      "./data/hotdog-nothotdog/test/hotdog/1557.jpg\n",
      "./data/hotdog-nothotdog/test/hotdog/1782.jpg\n",
      "./data/hotdog-nothotdog/test/hotdog/1796.jpg\n",
      "./data/hotdog-nothotdog/test/hotdog/1741.jpg\n",
      "./data/hotdog-nothotdog/test/hotdog/1755.jpg\n",
      "./data/hotdog-nothotdog/test/hotdog/1769.jpg\n",
      "./data/hotdog-nothotdog/test/hotdog/1812.jpg\n",
      "./data/hotdog-nothotdog/test/hotdog/1806.jpg\n",
      "./data/hotdog-nothotdog/test/hotdog/1635.jpg\n",
      "./data/hotdog-nothotdog/test/hotdog/1621.jpg\n",
      "./data/hotdog-nothotdog/test/hotdog/1609.jpg\n",
      "./data/hotdog-nothotdog/test/hotdog/1625.jpg\n",
      "./data/hotdog-nothotdog/test/hotdog/1631.jpg\n",
      "./data/hotdog-nothotdog/test/hotdog/1619.jpg\n",
      "./data/hotdog-nothotdog/test/hotdog/1802.jpg\n",
      "./data/hotdog-nothotdog/test/hotdog/1816.jpg\n",
      "./data/hotdog-nothotdog/test/hotdog/1751.jpg\n",
      "./data/hotdog-nothotdog/test/hotdog/1745.jpg\n",
      "./data/hotdog-nothotdog/test/hotdog/1779.jpg\n",
      "./data/hotdog-nothotdog/test/hotdog/1792.jpg\n",
      "./data/hotdog-nothotdog/test/hotdog/1786.jpg\n",
      "./data/hotdog-nothotdog/test/hotdog/1553.jpg\n",
      "./data/hotdog-nothotdog/test/hotdog/1547.jpg\n",
      "./data/hotdog-nothotdog/test/hotdog/1590.jpg\n",
      "./data/hotdog-nothotdog/test/hotdog/1584.jpg\n",
      "./data/hotdog-nothotdog/test/hotdog/1585.jpg\n",
      "./data/hotdog-nothotdog/test/hotdog/1591.jpg\n",
      "./data/hotdog-nothotdog/test/hotdog/1546.jpg\n",
      "./data/hotdog-nothotdog/test/hotdog/1552.jpg\n",
      "./data/hotdog-nothotdog/test/hotdog/1787.jpg\n",
      "./data/hotdog-nothotdog/test/hotdog/1793.jpg\n",
      "./data/hotdog-nothotdog/test/hotdog/1778.jpg\n",
      "./data/hotdog-nothotdog/test/hotdog/1744.jpg\n",
      "./data/hotdog-nothotdog/test/hotdog/1750.jpg\n",
      "./data/hotdog-nothotdog/test/hotdog/1817.jpg\n",
      "./data/hotdog-nothotdog/test/hotdog/1803.jpg\n",
      "./data/hotdog-nothotdog/test/hotdog/1618.jpg\n",
      "./data/hotdog-nothotdog/test/hotdog/1630.jpg\n",
      "./data/hotdog-nothotdog/test/hotdog/1624.jpg\n",
      "./data/hotdog-nothotdog/test/hotdog/1632.jpg\n",
      "./data/hotdog-nothotdog/test/hotdog/1626.jpg\n",
      "./data/hotdog-nothotdog/test/hotdog/1815.jpg\n",
      "./data/hotdog-nothotdog/test/hotdog/1801.jpg\n",
      "./data/hotdog-nothotdog/test/hotdog/1746.jpg\n",
      "./data/hotdog-nothotdog/test/hotdog/1752.jpg\n",
      "./data/hotdog-nothotdog/test/hotdog/1785.jpg\n",
      "./data/hotdog-nothotdog/test/hotdog/1791.jpg\n",
      "./data/hotdog-nothotdog/test/hotdog/1544.jpg\n",
      "./data/hotdog-nothotdog/test/hotdog/1550.jpg\n",
      "./data/hotdog-nothotdog/test/hotdog/1578.jpg\n",
      "./data/hotdog-nothotdog/test/hotdog/1587.jpg\n",
      "./data/hotdog-nothotdog/test/hotdog/1593.jpg\n",
      "./data/hotdog-nothotdog/test/hotdog/1592.jpg\n",
      "./data/hotdog-nothotdog/test/hotdog/1586.jpg\n",
      "./data/hotdog-nothotdog/test/hotdog/1579.jpg\n",
      "./data/hotdog-nothotdog/test/hotdog/1551.jpg\n",
      "./data/hotdog-nothotdog/test/hotdog/1545.jpg\n",
      "./data/hotdog-nothotdog/test/hotdog/1790.jpg\n",
      "./data/hotdog-nothotdog/test/hotdog/1784.jpg\n",
      "./data/hotdog-nothotdog/test/hotdog/1753.jpg\n",
      "./data/hotdog-nothotdog/test/hotdog/1747.jpg\n",
      "./data/hotdog-nothotdog/test/hotdog/1800.jpg\n",
      "./data/hotdog-nothotdog/test/hotdog/1814.jpg\n",
      "./data/hotdog-nothotdog/test/hotdog/1627.jpg\n",
      "./data/hotdog-nothotdog/test/hotdog/1633.jpg\n",
      "./data/hotdog-nothotdog/test/hotdog/1668.jpg\n",
      "./data/hotdog-nothotdog/test/hotdog/1654.jpg\n",
      "./data/hotdog-nothotdog/test/hotdog/1640.jpg\n",
      "./data/hotdog-nothotdog/test/hotdog/1697.jpg\n",
      "./data/hotdog-nothotdog/test/hotdog/1683.jpg\n",
      "./data/hotdog-nothotdog/test/hotdog/1708.jpg\n",
      "./data/hotdog-nothotdog/test/hotdog/1720.jpg\n",
      "./data/hotdog-nothotdog/test/hotdog/1734.jpg\n",
      "./data/hotdog-nothotdog/test/hotdog/1522.jpg\n",
      "./data/hotdog-nothotdog/test/hotdog/1536.jpg\n",
      "./data/hotdog-nothotdog/test/hotdog/1537.jpg\n",
      "./data/hotdog-nothotdog/test/hotdog/1523.jpg\n",
      "./data/hotdog-nothotdog/test/hotdog/1735.jpg\n",
      "./data/hotdog-nothotdog/test/hotdog/1721.jpg\n",
      "./data/hotdog-nothotdog/test/hotdog/1709.jpg\n",
      "./data/hotdog-nothotdog/test/hotdog/1682.jpg\n",
      "./data/hotdog-nothotdog/test/hotdog/1696.jpg\n",
      "./data/hotdog-nothotdog/test/hotdog/1641.jpg\n",
      "./data/hotdog-nothotdog/test/hotdog/1655.jpg\n",
      "./data/hotdog-nothotdog/test/hotdog/1669.jpg\n",
      "./data/hotdog-nothotdog/test/hotdog/1643.jpg\n",
      "./data/hotdog-nothotdog/test/hotdog/1657.jpg\n",
      "./data/hotdog-nothotdog/test/hotdog/1680.jpg\n",
      "./data/hotdog-nothotdog/test/hotdog/1694.jpg\n",
      "./data/hotdog-nothotdog/test/hotdog/1737.jpg\n",
      "./data/hotdog-nothotdog/test/hotdog/1723.jpg\n",
      "./data/hotdog-nothotdog/test/hotdog/1509.jpg\n",
      "./data/hotdog-nothotdog/test/hotdog/1535.jpg\n",
      "./data/hotdog-nothotdog/test/hotdog/1521.jpg\n",
      "./data/hotdog-nothotdog/test/hotdog/1520.jpg\n",
      "./data/hotdog-nothotdog/test/hotdog/1534.jpg\n",
      "./data/hotdog-nothotdog/test/hotdog/1508.jpg\n",
      "./data/hotdog-nothotdog/test/hotdog/1722.jpg\n",
      "./data/hotdog-nothotdog/test/hotdog/1736.jpg\n",
      "./data/hotdog-nothotdog/test/hotdog/1695.jpg\n",
      "./data/hotdog-nothotdog/test/hotdog/1681.jpg\n",
      "./data/hotdog-nothotdog/test/hotdog/1656.jpg\n",
      "./data/hotdog-nothotdog/test/hotdog/1642.jpg\n",
      "./data/hotdog-nothotdog/test/hotdog/1646.jpg\n",
      "./data/hotdog-nothotdog/test/hotdog/1652.jpg\n",
      "./data/hotdog-nothotdog/test/hotdog/1685.jpg\n",
      "./data/hotdog-nothotdog/test/hotdog/1691.jpg\n",
      "./data/hotdog-nothotdog/test/hotdog/1732.jpg\n",
      "./data/hotdog-nothotdog/test/hotdog/1726.jpg\n",
      "./data/hotdog-nothotdog/test/hotdog/1530.jpg\n",
      "./data/hotdog-nothotdog/test/hotdog/1524.jpg\n",
      "./data/hotdog-nothotdog/test/hotdog/1518.jpg\n",
      "./data/hotdog-nothotdog/test/hotdog/1519.jpg\n",
      "./data/hotdog-nothotdog/test/hotdog/1525.jpg\n",
      "./data/hotdog-nothotdog/test/hotdog/1531.jpg\n",
      "./data/hotdog-nothotdog/test/hotdog/1727.jpg\n",
      "./data/hotdog-nothotdog/test/hotdog/1733.jpg\n",
      "./data/hotdog-nothotdog/test/hotdog/1690.jpg\n",
      "./data/hotdog-nothotdog/test/hotdog/1684.jpg\n",
      "./data/hotdog-nothotdog/test/hotdog/1653.jpg\n",
      "./data/hotdog-nothotdog/test/hotdog/1647.jpg\n",
      "./data/hotdog-nothotdog/test/hotdog/1651.jpg\n",
      "./data/hotdog-nothotdog/test/hotdog/1645.jpg\n",
      "./data/hotdog-nothotdog/test/hotdog/1679.jpg\n",
      "./data/hotdog-nothotdog/test/hotdog/1692.jpg\n",
      "./data/hotdog-nothotdog/test/hotdog/1686.jpg\n",
      "./data/hotdog-nothotdog/test/hotdog/1725.jpg\n",
      "./data/hotdog-nothotdog/test/hotdog/1731.jpg\n",
      "./data/hotdog-nothotdog/test/hotdog/1719.jpg\n",
      "./data/hotdog-nothotdog/test/hotdog/1527.jpg\n",
      "./data/hotdog-nothotdog/test/hotdog/1533.jpg\n",
      "./data/hotdog-nothotdog/test/hotdog/1532.jpg\n",
      "./data/hotdog-nothotdog/test/hotdog/1526.jpg\n",
      "./data/hotdog-nothotdog/test/hotdog/1718.jpg\n",
      "./data/hotdog-nothotdog/test/hotdog/1730.jpg\n",
      "./data/hotdog-nothotdog/test/hotdog/1724.jpg\n",
      "./data/hotdog-nothotdog/test/hotdog/1687.jpg\n",
      "./data/hotdog-nothotdog/test/hotdog/1693.jpg\n",
      "./data/hotdog-nothotdog/test/hotdog/1644.jpg\n",
      "./data/hotdog-nothotdog/test/hotdog/1650.jpg\n",
      "./data/hotdog-nothotdog/test/hotdog/1649.jpg\n",
      "./data/hotdog-nothotdog/test/hotdog/1675.jpg\n",
      "./data/hotdog-nothotdog/test/hotdog/1661.jpg\n",
      "./data/hotdog-nothotdog/test/hotdog/1729.jpg\n",
      "./data/hotdog-nothotdog/test/hotdog/1701.jpg\n",
      "./data/hotdog-nothotdog/test/hotdog/1715.jpg\n",
      "./data/hotdog-nothotdog/test/hotdog/1503.jpg\n",
      "./data/hotdog-nothotdog/test/hotdog/1517.jpg\n",
      "./data/hotdog-nothotdog/test/hotdog/1516.jpg\n",
      "./data/hotdog-nothotdog/test/hotdog/1502.jpg\n",
      "./data/hotdog-nothotdog/test/hotdog/1714.jpg\n",
      "./data/hotdog-nothotdog/test/hotdog/1700.jpg\n",
      "./data/hotdog-nothotdog/test/hotdog/1728.jpg\n",
      "./data/hotdog-nothotdog/test/hotdog/1660.jpg\n",
      "./data/hotdog-nothotdog/test/hotdog/1674.jpg\n",
      "./data/hotdog-nothotdog/test/hotdog/1648.jpg\n",
      "./data/hotdog-nothotdog/test/hotdog/1662.jpg\n",
      "./data/hotdog-nothotdog/test/hotdog/1676.jpg\n",
      "./data/hotdog-nothotdog/test/hotdog/1689.jpg\n",
      "./data/hotdog-nothotdog/test/hotdog/1716.jpg\n",
      "./data/hotdog-nothotdog/test/hotdog/1702.jpg\n",
      "./data/hotdog-nothotdog/test/hotdog/1528.jpg\n",
      "./data/hotdog-nothotdog/test/hotdog/1514.jpg\n",
      "./data/hotdog-nothotdog/test/hotdog/1501.jpg\n",
      "./data/hotdog-nothotdog/test/hotdog/1515.jpg\n",
      "./data/hotdog-nothotdog/test/hotdog/1529.jpg\n",
      "./data/hotdog-nothotdog/test/hotdog/1703.jpg\n",
      "./data/hotdog-nothotdog/test/hotdog/1717.jpg\n",
      "./data/hotdog-nothotdog/test/hotdog/1688.jpg\n",
      "./data/hotdog-nothotdog/test/hotdog/1677.jpg\n",
      "./data/hotdog-nothotdog/test/hotdog/1663.jpg\n",
      "./data/hotdog-nothotdog/test/hotdog/1667.jpg\n",
      "./data/hotdog-nothotdog/test/hotdog/1673.jpg\n",
      "./data/hotdog-nothotdog/test/hotdog/1698.jpg\n",
      "./data/hotdog-nothotdog/test/hotdog/1713.jpg\n",
      "./data/hotdog-nothotdog/test/hotdog/1707.jpg\n",
      "./data/hotdog-nothotdog/test/hotdog/1511.jpg\n",
      "./data/hotdog-nothotdog/test/hotdog/1505.jpg\n",
      "./data/hotdog-nothotdog/test/hotdog/1539.jpg\n",
      "./data/hotdog-nothotdog/test/hotdog/1538.jpg\n",
      "./data/hotdog-nothotdog/test/hotdog/1504.jpg\n",
      "./data/hotdog-nothotdog/test/hotdog/1510.jpg\n",
      "./data/hotdog-nothotdog/test/hotdog/1706.jpg\n",
      "./data/hotdog-nothotdog/test/hotdog/1712.jpg\n",
      "./data/hotdog-nothotdog/test/hotdog/1699.jpg\n",
      "./data/hotdog-nothotdog/test/hotdog/1672.jpg\n",
      "./data/hotdog-nothotdog/test/hotdog/1666.jpg\n",
      "./data/hotdog-nothotdog/test/hotdog/1670.jpg\n",
      "./data/hotdog-nothotdog/test/hotdog/1664.jpg\n",
      "./data/hotdog-nothotdog/test/hotdog/1658.jpg\n",
      "./data/hotdog-nothotdog/test/hotdog/1704.jpg\n",
      "./data/hotdog-nothotdog/test/hotdog/1710.jpg\n",
      "./data/hotdog-nothotdog/test/hotdog/1738.jpg\n",
      "./data/hotdog-nothotdog/test/hotdog/1506.jpg\n",
      "./data/hotdog-nothotdog/test/hotdog/1512.jpg\n",
      "./data/hotdog-nothotdog/test/hotdog/1513.jpg\n",
      "./data/hotdog-nothotdog/test/hotdog/1507.jpg\n",
      "./data/hotdog-nothotdog/test/hotdog/1739.jpg\n",
      "./data/hotdog-nothotdog/test/hotdog/1711.jpg\n",
      "./data/hotdog-nothotdog/test/hotdog/1705.jpg\n",
      "./data/hotdog-nothotdog/test/hotdog/1659.jpg\n",
      "./data/hotdog-nothotdog/test/hotdog/1665.jpg\n",
      "./data/hotdog-nothotdog/test/hotdog/1671.jpg\n",
      "./data/hotdog-nothotdog/test/hotdog/1616.jpg\n",
      "./data/hotdog-nothotdog/test/hotdog/1602.jpg\n",
      "./data/hotdog-nothotdog/test/hotdog/1819.jpg\n",
      "./data/hotdog-nothotdog/test/hotdog/1762.jpg\n",
      "./data/hotdog-nothotdog/test/hotdog/1776.jpg\n",
      "./data/hotdog-nothotdog/test/hotdog/1789.jpg\n",
      "./data/hotdog-nothotdog/test/hotdog/1548.jpg\n",
      "./data/hotdog-nothotdog/test/hotdog/1560.jpg\n",
      "./data/hotdog-nothotdog/test/hotdog/1574.jpg\n",
      "./data/hotdog-nothotdog/test/hotdog/1575.jpg\n",
      "./data/hotdog-nothotdog/test/hotdog/1561.jpg\n",
      "./data/hotdog-nothotdog/test/hotdog/1549.jpg\n",
      "./data/hotdog-nothotdog/test/hotdog/1788.jpg\n",
      "./data/hotdog-nothotdog/test/hotdog/1777.jpg\n",
      "./data/hotdog-nothotdog/test/hotdog/1763.jpg\n",
      "./data/hotdog-nothotdog/test/hotdog/1818.jpg\n",
      "./data/hotdog-nothotdog/test/hotdog/1603.jpg\n",
      "./data/hotdog-nothotdog/test/hotdog/1617.jpg\n",
      "./data/hotdog-nothotdog/test/hotdog/1629.jpg\n",
      "./data/hotdog-nothotdog/test/hotdog/1601.jpg\n",
      "./data/hotdog-nothotdog/test/hotdog/1615.jpg\n",
      "./data/hotdog-nothotdog/test/hotdog/1749.jpg\n",
      "./data/hotdog-nothotdog/test/hotdog/1775.jpg\n",
      "./data/hotdog-nothotdog/test/hotdog/1761.jpg\n",
      "./data/hotdog-nothotdog/test/hotdog/1577.jpg\n",
      "./data/hotdog-nothotdog/test/hotdog/1563.jpg\n",
      "./data/hotdog-nothotdog/test/hotdog/1588.jpg\n",
      "./data/hotdog-nothotdog/test/hotdog/1589.jpg\n",
      "./data/hotdog-nothotdog/test/hotdog/1562.jpg\n",
      "./data/hotdog-nothotdog/test/hotdog/1576.jpg\n",
      "./data/hotdog-nothotdog/test/hotdog/1760.jpg\n",
      "./data/hotdog-nothotdog/test/hotdog/1774.jpg\n",
      "./data/hotdog-nothotdog/test/hotdog/1748.jpg\n",
      "./data/hotdog-nothotdog/test/hotdog/1614.jpg\n",
      "./data/hotdog-nothotdog/test/hotdog/1600.jpg\n",
      "./data/hotdog-nothotdog/test/hotdog/1628.jpg\n",
      "./data/hotdog-nothotdog/test/hotdog/1604.jpg\n",
      "./data/hotdog-nothotdog/test/hotdog/1610.jpg\n",
      "./data/hotdog-nothotdog/test/hotdog/1638.jpg\n",
      "./data/hotdog-nothotdog/test/hotdog/1823.jpg\n",
      "./data/hotdog-nothotdog/test/hotdog/1770.jpg\n",
      "./data/hotdog-nothotdog/test/hotdog/1764.jpg\n",
      "./data/hotdog-nothotdog/test/hotdog/1758.jpg\n",
      "./data/hotdog-nothotdog/test/hotdog/1572.jpg\n",
      "./data/hotdog-nothotdog/test/hotdog/1566.jpg\n",
      "./data/hotdog-nothotdog/test/hotdog/1599.jpg\n",
      "./data/hotdog-nothotdog/test/hotdog/1598.jpg\n",
      "./data/hotdog-nothotdog/test/hotdog/1567.jpg\n",
      "./data/hotdog-nothotdog/test/hotdog/1573.jpg\n",
      "./data/hotdog-nothotdog/test/hotdog/1759.jpg\n",
      "./data/hotdog-nothotdog/test/hotdog/1765.jpg\n",
      "./data/hotdog-nothotdog/test/hotdog/1771.jpg\n",
      "./data/hotdog-nothotdog/test/hotdog/1822.jpg\n",
      "./data/hotdog-nothotdog/test/hotdog/1639.jpg\n",
      "./data/hotdog-nothotdog/test/hotdog/1611.jpg\n",
      "./data/hotdog-nothotdog/test/hotdog/1605.jpg\n",
      "./data/hotdog-nothotdog/test/hotdog/1613.jpg\n",
      "./data/hotdog-nothotdog/test/hotdog/1607.jpg\n",
      "./data/hotdog-nothotdog/test/hotdog/1808.jpg\n",
      "./data/hotdog-nothotdog/test/hotdog/1820.jpg\n",
      "./data/hotdog-nothotdog/test/hotdog/1767.jpg\n",
      "./data/hotdog-nothotdog/test/hotdog/1773.jpg\n",
      "./data/hotdog-nothotdog/test/hotdog/1798.jpg\n",
      "./data/hotdog-nothotdog/test/hotdog/1565.jpg\n",
      "./data/hotdog-nothotdog/test/hotdog/1571.jpg\n",
      "./data/hotdog-nothotdog/test/hotdog/1559.jpg\n",
      "./data/hotdog-nothotdog/test/hotdog/1558.jpg\n",
      "./data/hotdog-nothotdog/test/hotdog/1570.jpg\n",
      "./data/hotdog-nothotdog/test/hotdog/1564.jpg\n",
      "./data/hotdog-nothotdog/test/hotdog/1799.jpg\n",
      "./data/hotdog-nothotdog/test/hotdog/1772.jpg\n",
      "./data/hotdog-nothotdog/test/hotdog/1766.jpg\n",
      "./data/hotdog-nothotdog/test/hotdog/1821.jpg\n",
      "./data/hotdog-nothotdog/test/hotdog/1809.jpg\n",
      "./data/hotdog-nothotdog/test/hotdog/1606.jpg\n",
      "./data/hotdog-nothotdog/test/hotdog/1612.jpg\n"
     ]
    }
   ],
   "source": [
    "directory=\"./data/hotdog-nothotdog/test/hotdog/\"\n",
    "for filename in os.listdir(directory):\n",
    "    f = os.path.join(directory, filename)\n",
    "    # checking if it is a file\n",
    "    if os.path.isfile(f):\n",
    "        img= Image.open(f)\n",
    "        np_img = np.array(img)\n",
    "\n",
    "        print(f)\n",
    "        img = Image.open(f)\n",
    "        temp = np.asarray(img)\n",
    "        np.concatenate([imageToMatrice,temp])\n",
    "       \n",
    "\n"
   ]
  },
  {
   "cell_type": "code",
   "execution_count": 23,
   "metadata": {},
   "outputs": [
    {
     "data": {
      "text/plain": [
       "299"
      ]
     },
     "execution_count": 23,
     "metadata": {},
     "output_type": "execute_result"
    }
   ],
   "source": [
    "len(imageToMatrice)"
   ]
  },
  {
   "cell_type": "code",
   "execution_count": 24,
   "metadata": {},
   "outputs": [
    {
     "data": {
      "text/plain": [
       "array([[[ 60,  63,  36],\n",
       "        [ 54,  43,  41],\n",
       "        [ 34,  22,  36],\n",
       "        ...,\n",
       "        [  4,  17,  10],\n",
       "        [  0,  13,   6],\n",
       "        [  1,  13,   9]],\n",
       "\n",
       "       [[ 81,  91,  67],\n",
       "        [ 67,  69,  58],\n",
       "        [ 29,  25,  24],\n",
       "        ...,\n",
       "        [  1,  11,  10],\n",
       "        [  2,  12,  13],\n",
       "        [  5,  15,  16]],\n",
       "\n",
       "       [[ 91, 106,  99],\n",
       "        [ 65,  77,  67],\n",
       "        [ 32,  36,  21],\n",
       "        ...,\n",
       "        [  1,   9,  12],\n",
       "        [  4,  11,  17],\n",
       "        [  6,  13,  23]],\n",
       "\n",
       "       ...,\n",
       "\n",
       "       [[140, 138, 123],\n",
       "        [132, 135, 108],\n",
       "        [138, 144, 108],\n",
       "        ...,\n",
       "        [121, 120,  64],\n",
       "        [121, 119,  70],\n",
       "        [109, 104,  75]],\n",
       "\n",
       "       [[131, 132, 118],\n",
       "        [128, 132, 105],\n",
       "        [127, 135,  96],\n",
       "        ...,\n",
       "        [121, 118,  67],\n",
       "        [117, 112,  74],\n",
       "        [107,  95,  81]],\n",
       "\n",
       "       [[126, 124, 112],\n",
       "        [128, 132, 105],\n",
       "        [119, 128,  85],\n",
       "        ...,\n",
       "        [121, 114,  62],\n",
       "        [112, 100,  62],\n",
       "        [103,  85,  73]]], dtype=uint8)"
      ]
     },
     "execution_count": 24,
     "metadata": {},
     "output_type": "execute_result"
    }
   ],
   "source": [
    "imageToMatrice"
   ]
  },
  {
   "cell_type": "code",
   "execution_count": 39,
   "metadata": {},
   "outputs": [],
   "source": [
    "test_path=\"./data/hotdog-nothotdog/test/\""
   ]
  },
  {
   "cell_type": "code",
   "execution_count": 40,
   "metadata": {},
   "outputs": [
    {
     "name": "stdout",
     "output_type": "stream",
     "text": [
      "Found 644 images belonging to 2 classes.\n"
     ]
    }
   ],
   "source": [
    "test_bathes=ImageDataGenerator(,).flow_from_directory(test_path,target_size=(299,299),batch_size=10,color_mode=\"rgb\",)"
   ]
  },
  {
   "cell_type": "code",
   "execution_count": 44,
   "metadata": {},
   "outputs": [
    {
     "data": {
      "text/plain": [
       "<keras_preprocessing.image.directory_iterator.DirectoryIterator at 0x2a57a0be0>"
      ]
     },
     "execution_count": 44,
     "metadata": {},
     "output_type": "execute_result"
    }
   ],
   "source": [
    "test_bathes"
   ]
  },
  {
   "cell_type": "code",
   "execution_count": 52,
   "metadata": {},
   "outputs": [
    {
     "name": "stdout",
     "output_type": "stream",
     "text": [
      "Found 644 images belonging to 2 classes.\n"
     ]
    }
   ],
   "source": [
    "train_datagen = ImageDataGenerator(rescale=1. / 255)\n",
    "itr = train_datagen.flow_from_directory(\n",
    "test_path,\n",
    "target_size=(299, 299),\n",
    "batch_size=1481,\n",
    "class_mode='categorical',classes=[\"hotdog\",\"nothotdog\"])\n",
    "\n",
    "X_test, y_test = itr.next()"
   ]
  },
  {
   "cell_type": "code",
   "execution_count": 55,
   "metadata": {},
   "outputs": [
    {
     "name": "stdout",
     "output_type": "stream",
     "text": [
      "Found 3000 images belonging to 2 classes.\n"
     ]
    }
   ],
   "source": [
    "train_path=\"../nn_hackathon/data/hotdog-nothotdog/train/\"\n",
    "train_datagen = ImageDataGenerator(rescale=1. / 255)\n",
    "itr = train_datagen.flow_from_directory(\n",
    "train_path,\n",
    "target_size=(299, 299),\n",
    "batch_size=1481,\n",
    "class_mode='categorical',classes=[\"hotdog\",\"nothotdog\"])\n",
    "\n",
    "X_train, y_train = itr.next()"
   ]
  },
  {
   "cell_type": "code",
   "execution_count": null,
   "metadata": {},
   "outputs": [],
   "source": []
  }
 ],
 "metadata": {
  "kernelspec": {
   "display_name": "dsi_tens",
   "language": "python",
   "name": "dsi_tens"
  },
  "language_info": {
   "codemirror_mode": {
    "name": "ipython",
    "version": 3
   },
   "file_extension": ".py",
   "mimetype": "text/x-python",
   "name": "python",
   "nbconvert_exporter": "python",
   "pygments_lexer": "ipython3",
   "version": "3.9.12"
  },
  "orig_nbformat": 4
 },
 "nbformat": 4,
 "nbformat_minor": 2
}
